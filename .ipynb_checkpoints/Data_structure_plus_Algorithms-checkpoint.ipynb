{
 "cells": [
  {
   "cell_type": "code",
   "execution_count": 1,
   "metadata": {},
   "outputs": [
    {
     "name": "stdout",
     "output_type": "stream",
     "text": [
      "left\n"
     ]
    }
   ],
   "source": [
    "class Tree:\n",
    "    def __init__(self):\n",
    "        self.left = None\n",
    "        self.right = None\n",
    "        self.data = None\n",
    "        \n",
    "root = Tree()\n",
    "root.data = 'root'\n",
    "root.left = Tree()\n",
    "root.left.data = 'left'\n",
    "root.right = Tree()\n",
    "root.right.data = 'right'\n",
    "\n",
    "print (root.left.data)"
   ]
  },
  {
   "cell_type": "code",
   "execution_count": 4,
   "metadata": {},
   "outputs": [],
   "source": [
    "class Tree(object):\n",
    "    def __init__(self):\n",
    "        self.left = None\n",
    "        self.right = None\n",
    "        self.data = None\n",
    "root = Tree()\n",
    "root.data = 'root'\n",
    "root.left = Tree()\n",
    "root.left.data = 'left'\n",
    "root.right = Tree()\n",
    "root.right.data = 'right'\n",
    "\n",
    "root.left.left = Tree()\n",
    "root.left.left.data = 'left 2'\n",
    "root.left.right = Tree()\n",
    "root.left.right.data = 'left-right' "
   ]
  },
  {
   "cell_type": "markdown",
   "metadata": {},
   "source": [
    "### Sequential Search"
   ]
  },
  {
   "cell_type": "code",
   "execution_count": 2,
   "metadata": {},
   "outputs": [
    {
     "name": "stdout",
     "output_type": "stream",
     "text": [
      "True\n",
      "False\n"
     ]
    }
   ],
   "source": [
    "def seq_search(a_list, item):\n",
    "    pos = 0\n",
    "    found = False\n",
    "    \n",
    "    while pos < len(a_list) and not found:\n",
    "        if a_list[pos] == item:\n",
    "            found = True\n",
    "        else: \n",
    "            pos +=1\n",
    "    return found\n",
    "\n",
    "test_list = [1, 2, 3, 4, 5, 6,12, 52, 23]\n",
    "print (seq_search(test_list, 4))\n",
    "print (seq_search(test_list, 13))"
   ]
  },
  {
   "cell_type": "code",
   "execution_count": null,
   "metadata": {},
   "outputs": [],
   "source": []
  }
 ],
 "metadata": {
  "kernelspec": {
   "display_name": "Python 3",
   "language": "python",
   "name": "python3"
  },
  "language_info": {
   "codemirror_mode": {
    "name": "ipython",
    "version": 3
   },
   "file_extension": ".py",
   "mimetype": "text/x-python",
   "name": "python",
   "nbconvert_exporter": "python",
   "pygments_lexer": "ipython3",
   "version": "3.6.5"
  }
 },
 "nbformat": 4,
 "nbformat_minor": 2
}
